{
  "nbformat": 4,
  "nbformat_minor": 0,
  "metadata": {
    "colab": {
      "name": "Assignment 9.ipynb",
      "provenance": [],
      "collapsed_sections": [],
      "authorship_tag": "ABX9TyM912Ft21+YzBLRRpTJSGQQ",
      "include_colab_link": true
    },
    "kernelspec": {
      "name": "python3",
      "display_name": "Python 3"
    }
  },
  "cells": [
    {
      "cell_type": "markdown",
      "metadata": {
        "id": "view-in-github",
        "colab_type": "text"
      },
      "source": [
        "<a href=\"https://colab.research.google.com/github/RahmanMonty/COVID-19-/blob/master/Assignments/Assignment_9.ipynb\" target=\"_parent\"><img src=\"https://colab.research.google.com/assets/colab-badge.svg\" alt=\"Open In Colab\"/></a>"
      ]
    },
    {
      "cell_type": "code",
      "metadata": {
        "id": "hsG9f9ezd9uY",
        "colab_type": "code",
        "colab": {}
      },
      "source": [
        "import numpy as np\n",
        "import matplotlib.pyplot as plt\n",
        "import math\n",
        "import scipy.stats as stats"
      ],
      "execution_count": 0,
      "outputs": []
    },
    {
      "cell_type": "markdown",
      "metadata": {
        "id": "uhOMBVFQgTK2",
        "colab_type": "text"
      },
      "source": [
        "Perform point estimate and interval estimate of average enrollment of US community colleges with 95% confidence level.\n",
        "\n",
        "Since we don't know the population variance, we use t-distribution instead of normal distribution.\n",
        "\n",
        "\n"
      ]
    },
    {
      "cell_type": "code",
      "metadata": {
        "id": "sf7908NNeCfZ",
        "colab_type": "code",
        "colab": {
          "base_uri": "https://localhost:8080/",
          "height": 34
        },
        "outputId": "da7cabad-f021-47d6-a91c-1d7a86e30d46"
      },
      "source": [
        "Data =[6414, 1550, 2109, 9650, 21828, 4300, 5944, 5722, 2825, 2044, 5481, 5200, 5853, 2750, 10012,\n",
        "       6357, 27000, 9414, 7681, 3200, 17500, 9200,\n",
        "       7380, 18314, 6557, 13713, 17768, 7493, 2771,\n",
        "       2861, 1263, 7285, 28165, 5080, 11622] \n",
        "Data_Size = len(Data)\n",
        "print(\"Population size of Data = \", len(Data))  \n"
      ],
      "execution_count": 19,
      "outputs": [
        {
          "output_type": "stream",
          "text": [
            "Population size of Data =  35\n"
          ],
          "name": "stdout"
        }
      ]
    },
    {
      "cell_type": "code",
      "metadata": {
        "id": "Kup0FPoXfMhZ",
        "colab_type": "code",
        "colab": {
          "base_uri": "https://localhost:8080/",
          "height": 34
        },
        "outputId": "176db502-ef14-425a-a603-9e191361042f"
      },
      "source": [
        "Data_Mean = np.mean(Data)\n",
        "Data_Mean = round(Data_Mean, 2)\n",
        "Data_Mean"
      ],
      "execution_count": 25,
      "outputs": [
        {
          "output_type": "execute_result",
          "data": {
            "text/plain": [
              "8637.31"
            ]
          },
          "metadata": {
            "tags": []
          },
          "execution_count": 25
        }
      ]
    },
    {
      "cell_type": "code",
      "metadata": {
        "id": "dZH5so_3hY88",
        "colab_type": "code",
        "colab": {
          "base_uri": "https://localhost:8080/",
          "height": 34
        },
        "outputId": "8d29bc4c-3d57-4e75-a5f6-208d42f8264b"
      },
      "source": [
        "\n",
        "Data_STD = np.std(Data, ddof = 1)\n",
        "Data_STD = round(Data_STD, 2)\n",
        "Data_STD"
      ],
      "execution_count": 23,
      "outputs": [
        {
          "output_type": "execute_result",
          "data": {
            "text/plain": [
              "6944.99"
            ]
          },
          "metadata": {
            "tags": []
          },
          "execution_count": 23
        }
      ]
    },
    {
      "cell_type": "code",
      "metadata": {
        "id": "c4uPAZzsiKcN",
        "colab_type": "code",
        "colab": {
          "base_uri": "https://localhost:8080/",
          "height": 34
        },
        "outputId": "22dc7016-932d-4b88-aa3d-fd573a3566c5"
      },
      "source": [
        "#Calculate sample standard error\n",
        "\n",
        "Data_STD_ERR = Data_STD / math.sqrt(Data_Size)\n",
        "Data_STD_ERR = round(Data_STD_ERR, 2)\n",
        "Data_STD_ERR"
      ],
      "execution_count": 24,
      "outputs": [
        {
          "output_type": "execute_result",
          "data": {
            "text/plain": [
              "1173.92"
            ]
          },
          "metadata": {
            "tags": []
          },
          "execution_count": 24
        }
      ]
    },
    {
      "cell_type": "code",
      "metadata": {
        "id": "Nf1E7x_PjKrr",
        "colab_type": "code",
        "colab": {
          "base_uri": "https://localhost:8080/",
          "height": 34
        },
        "outputId": "cb2947e3-a6c0-4cb4-858b-4fff08b340b3"
      },
      "source": [
        "# Cannot use T Table to look up our value, because our sample goes up to 35. We will use pythons function \n",
        "t_value = stats.t.ppf(0.975, 34)\n",
        "t_value = round(t_value, 2)\n",
        "t_value"
      ],
      "execution_count": 29,
      "outputs": [
        {
          "output_type": "execute_result",
          "data": {
            "text/plain": [
              "2.03"
            ]
          },
          "metadata": {
            "tags": []
          },
          "execution_count": 29
        }
      ]
    },
    {
      "cell_type": "code",
      "metadata": {
        "id": "BeQr17qgjqwd",
        "colab_type": "code",
        "colab": {
          "base_uri": "https://localhost:8080/",
          "height": 34
        },
        "outputId": "a2f0f998-5acc-4854-ec9c-8e679eeaa176"
      },
      "source": [
        "#Margin of Error\n",
        "M_O_E = (t_value * Data_STD_ERR )\n",
        "M_O_E = round(M_O_E , 2)\n",
        "print( \"Margin of Error = \", M_O_E)"
      ],
      "execution_count": 31,
      "outputs": [
        {
          "output_type": "stream",
          "text": [
            "Margin of Error =  2383.06\n"
          ],
          "name": "stdout"
        }
      ]
    },
    {
      "cell_type": "code",
      "metadata": {
        "id": "lB2BIVKBkBGD",
        "colab_type": "code",
        "colab": {
          "base_uri": "https://localhost:8080/",
          "height": 34
        },
        "outputId": "5da1d097-7946-410b-d92e-db3088503b5c"
      },
      "source": [
        "Lower_Limit = Data_Mean - M_O_E\n",
        "Lower_Limit"
      ],
      "execution_count": 32,
      "outputs": [
        {
          "output_type": "execute_result",
          "data": {
            "text/plain": [
              "6254.25"
            ]
          },
          "metadata": {
            "tags": []
          },
          "execution_count": 32
        }
      ]
    },
    {
      "cell_type": "code",
      "metadata": {
        "id": "jpFT-eE1kL9q",
        "colab_type": "code",
        "colab": {
          "base_uri": "https://localhost:8080/",
          "height": 34
        },
        "outputId": "9376c675-1ae7-458d-8404-a61ea98abee7"
      },
      "source": [
        "Upper_Limit = Data_Mean + M_O_E\n",
        "Upper_Limit = round(Upper_Limit, 2)\n",
        "Upper_Limit"
      ],
      "execution_count": 36,
      "outputs": [
        {
          "output_type": "execute_result",
          "data": {
            "text/plain": [
              "11020.37"
            ]
          },
          "metadata": {
            "tags": []
          },
          "execution_count": 36
        }
      ]
    },
    {
      "cell_type": "code",
      "metadata": {
        "id": "vIinvsrJkdH9",
        "colab_type": "code",
        "colab": {
          "base_uri": "https://localhost:8080/",
          "height": 34
        },
        "outputId": "e67cf3c8-f700-48b3-d09e-a1fe27900bb4"
      },
      "source": [
        "# We have calculated the upper and lower limit,\n",
        "print(\"The 95% Confidence Interval of average enrollment in US community colleges falls between, =\", Lower_Limit, \",\", Upper_Limit)"
      ],
      "execution_count": 38,
      "outputs": [
        {
          "output_type": "stream",
          "text": [
            "The 95% Confidence Interval of average enrollment in US community colleges falls between, = 6254.25 , 11020.37\n"
          ],
          "name": "stdout"
        }
      ]
    },
    {
      "cell_type": "markdown",
      "metadata": {
        "id": "bWKvwVW4lFFM",
        "colab_type": "text"
      },
      "source": [
        ""
      ]
    }
  ]
}